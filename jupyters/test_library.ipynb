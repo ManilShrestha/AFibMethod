{
 "cells": [
  {
   "cell_type": "code",
   "execution_count": 1,
   "metadata": {},
   "outputs": [],
   "source": [
    "import sys\n",
    "\n",
    "sys.path.append('..')\n",
    "\n",
    "from Preprocess import Preprocess\n",
    "from Utilities import *\n",
    "\n",
    "import matplotlib.pyplot as plt\n",
    "import random"
   ]
  },
  {
   "cell_type": "code",
   "execution_count": 2,
   "metadata": {},
   "outputs": [],
   "source": [
    "hdf5_file_path = '/home/ms5267@drexel.edu/moberg-precicecap/data/Patient_2021-12-21_04_16.h5'\n",
    "annotation_file = '/home/ms5267@drexel.edu/moberg-precicecap/data/20240207-annotations-export-workspace=precicecap-patient=7-annotation_group=90.csv'\n",
    "\n",
    "annotation_metadata = {\n",
    "\t'modality':'ART'\n",
    "\t,'location':'na'\n",
    "\t,'scale_wrt_hd5':1e3\n",
    "}\n",
    "segment_length_sec = 30\n",
    "\n",
    "preprocess_abp = Preprocess(hdf5_file_path,annotation_file, annotation_metadata, segment_length_sec=segment_length_sec)"
   ]
  },
  {
   "cell_type": "code",
   "execution_count": 4,
   "metadata": {},
   "outputs": [
    {
     "data": {
      "text/plain": [
       "(14554, 3750)"
      ]
     },
     "execution_count": 4,
     "metadata": {},
     "output_type": "execute_result"
    }
   ],
   "source": [
    "artifact_raw = preprocess_abp.get_artifact_data()\n",
    "np.array(artifact_raw).shape"
   ]
  },
  {
   "cell_type": "code",
   "execution_count": 11,
   "metadata": {},
   "outputs": [
    {
     "data": {
      "text/plain": [
       "[]"
      ]
     },
     "execution_count": 11,
     "metadata": {},
     "output_type": "execute_result"
    }
   ],
   "source": [
    "def plot_random_signal(artifact_raw):\n",
    "\t# Check if artifact_raw is not empty\n",
    "\tif not artifact_raw:\n",
    "\t\tprint(\"No data to plot.\")\n",
    "\t\treturn\n",
    "\t\n",
    "\t# Randomly select an artifact signal\n",
    "\trandom_signal = random.choice(artifact_raw)\n",
    "\t\n",
    "\t# Create a plot of the selected signal\n",
    "\tplt.figure(figsize=(10, 4))\n",
    "\tplt.plot(random_signal)\n",
    "\tplt.title('Randomly Selected Artifact Signal')\n",
    "\tplt.xlabel('Sample Index')\n",
    "\tplt.ylabel('Amplitude')\n",
    "\tplt.grid(True)\n",
    "\tplt.show()\n",
    "\t\n",
    "\treturn random_signal"
   ]
  },
  {
   "cell_type": "code",
   "execution_count": null,
   "metadata": {},
   "outputs": [],
   "source": []
  }
 ],
 "metadata": {
  "kernelspec": {
   "display_name": "ve-m",
   "language": "python",
   "name": "python3"
  },
  "language_info": {
   "codemirror_mode": {
    "name": "ipython",
    "version": 3
   },
   "file_extension": ".py",
   "mimetype": "text/x-python",
   "name": "python",
   "nbconvert_exporter": "python",
   "pygments_lexer": "ipython3",
   "version": "3.10.13"
  }
 },
 "nbformat": 4,
 "nbformat_minor": 2
}
